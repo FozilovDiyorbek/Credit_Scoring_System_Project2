{
 "cells": [
  {
   "cell_type": "code",
   "execution_count": null,
   "id": "088e229d",
   "metadata": {},
   "outputs": [],
   "source": [
    "import pandas as pd\n",
    "import joblib"
   ]
  },
  {
   "cell_type": "code",
   "execution_count": null,
   "id": "cad8d537",
   "metadata": {},
   "outputs": [],
   "source": [
    "# Load the best model\n",
    "model_path = \"C:/Projects/Credit_scoring_system_project/models/best_model.pkl\"  \n",
    "model = joblib.load(model_path)\n",
    "\n",
    "# Upload test data\n",
    "df = pd.read_csv(\"C:/Projects/Credit_scoring_system_project/data/processed/cleaned_credit_rick.csv\").sample(5, random_state=42)\n",
    "X = df.drop(\"loan_status\", axis=1)\n",
    "\n",
    "predictions = model.predict(X)\n",
    "probability = model.predict_proba(X)[:, 1]\n",
    "\n",
    "print(\"\\n=== New Customer Forecast ===\")\n",
    "for i, (pred, prob) in enumerate(zip(predictions, probability)):\n",
    "    status = \"Default\" if pred == 1 else \"Non-Default\"\n",
    "    print(f\"Customer {i+1}: {status} (Probability: {prob:.2f})\")"
   ]
  }
 ],
 "metadata": {
  "language_info": {
   "name": "python"
  }
 },
 "nbformat": 4,
 "nbformat_minor": 5
}
